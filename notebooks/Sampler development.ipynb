{
 "cells": [
  {
   "cell_type": "markdown",
   "id": "e80e8be9-cde6-47b2-a6e4-e8622135ba6b",
   "metadata": {},
   "source": [
    "## Development of rejection samplers \n",
    "\n",
    "##### Author: [Nicholas B](mailto:nicholas92457@gchq.gov.uk)\n",
    "This notebook establishes the rejection samplers used in library and recorded in the paper.\n",
    "\n",
    "The objective is to construct a rejection sampler for the following density:\n",
    "\n",
    "$$f(x) = \\frac{1}{N}e^{-\\frac{x^2}{2}}\\sum_{i}\\phi_i(x)^2$$\n",
    "\n",
    "where $\\phi_i$ are multivariate Hermite polynomials on $\\mathbb{R}^d$ with multi-index $i = (i_1,\\ldots, i_d)$. The sum is over all of the first $N$ multi-indices, where the multi-indices are given the natural ordering by max-degree first and lexicographic second. We restrict to the case where $N = n^d$. We have $$\\phi_i(x) = \\prod_{k=1}^d \\psi_{i_k}(x_k)$$\n",
    "where $\\psi_i$ are standard probabilist's normalised Hermite polynomials. We can now write \n",
    "$$ f(x) = \\prod_{k=1}^d\\left(\\frac{1}{n}e^{-\\frac{x_k^2}{2}}\\sum_{i=1}^n\\psi_i(x_k)^2\\right)\\equiv \\prod_{k=1}^d f_k(x_k).$$\n",
    "\n",
    "As $n\\rightarrow \\infty$ the densities $f_k$ approach the wigner semi-circle, so we will construct a rejection sampler based on the semi-circle. However, we must use a mixture of the semi-circle with some heavy-tailed distribution, as $f_k$ is supported on $\\mathbb{R}$ with sub-Gaussian tails."
   ]
  },
  {
   "cell_type": "code",
   "execution_count": null,
   "id": "b932073a-9bd5-4c43-a681-64505d921cbb",
   "metadata": {},
   "outputs": [],
   "source": [
    "from joblib import Parallel, delayed\n",
    "import matplotlib.pyplot as plt\n",
    "import numpy as np\n",
    "from scipy.special import eval_hermitenorm, eval_hermite, factorial\n",
    "from scipy import optimize, stats\n",
    "from tqdm import tqdm"
   ]
  },
  {
   "cell_type": "code",
   "execution_count": null,
   "id": "251c97b4-538f-405d-b6d5-527b6edc741a",
   "metadata": {},
   "outputs": [],
   "source": [
    "def semi_circle(x):\n",
    "    \"\"\"Wigner semi-circle.\"\"\"\n",
    "    z = np.maximum(0, 4 - x**2)\n",
    "    return np.sqrt(z)/(2*np.pi)\n",
    "\n",
    "def finite_n_semi_circle_density(x, n):\n",
    "    \"\"\"The density we are targetting.\"\"\"\n",
    "    _x = x\n",
    "    prefactor = 1 / n\n",
    "    hermite = sum(eval_hermite(ind, _x / np.sqrt(2))**2 / (2**ind * factorial(ind)) for ind in range(n))\n",
    "    return prefactor * hermite * stats.norm.pdf(_x)"
   ]
  },
  {
   "cell_type": "code",
   "execution_count": null,
   "id": "33bb12dd-69ad-48c3-b775-84009e7a9379",
   "metadata": {},
   "outputs": [],
   "source": [
    "N = 50\n",
    "x = np.linspace(-np.sqrt(4*N)-1, np.sqrt(4*N)+1, 1000)\n",
    "plt.plot(x, finite_n_semi_circle_density(x, N));\n",
    "plt.plot(x, semi_circle(x/np.sqrt(N))/np.sqrt(N));"
   ]
  },
  {
   "cell_type": "markdown",
   "id": "8e330325-72b0-4643-ac5a-656699b1bf20",
   "metadata": {},
   "source": [
    "We need to sample from the semi-cirle law. It may seem natural to sample Wigner matrix eigenvalues (e.g. from a GOE which is simple to sample), but we found empirically this to be much slower, so we implement a rejection sampler. The proposal distribution is just a symmetric mixture of two Gaussians and we hand-tune a good rejection bound."
   ]
  },
  {
   "cell_type": "code",
   "execution_count": null,
   "id": "f561deb0-eba7-49aa-a11d-eff52b6e35e5",
   "metadata": {},
   "outputs": [],
   "source": [
    "semi_circle_rejection_bound = .71/.5\n",
    "def gmm_semicircle_proposal(x):\n",
    "    return (stats.norm.pdf(x, loc=-1, scale=0.8) + stats.norm.pdf(x, loc=1, scale=0.8))/2\n",
    "\n",
    "x = np.linspace(-3, 3, 1000);\n",
    "plt.plot(x, semi_circle_rejection_bound * gmm_semicircle_proposal(x), label=\"$q(x) * M$\")\n",
    "plt.plot(x, semi_circle(x), label=\"p(x)\");\n",
    "plt.legend();"
   ]
  },
  {
   "cell_type": "code",
   "execution_count": null,
   "id": "81ca3e82-3b9f-4dac-9660-56d8ed5d97d6",
   "metadata": {},
   "outputs": [],
   "source": [
    "def sample_semicircle_rejection():\n",
    "    for _ in range(1000):\n",
    "        mean = -1 if np.random.randint(2)==0 else 1\n",
    "        proposal_point = stats.norm.rvs(loc=mean, scale=.8)\n",
    "        ratio = semi_circle(proposal_point)/((stats.norm.pdf(proposal_point, loc=-1, scale=0.8) + stats.norm.pdf(proposal_point, loc=1, scale=0.8))/2)\n",
    "        u = np.random.uniform()\n",
    "        if u * semi_circle_rejection_bound < ratio:\n",
    "            return proposal_point"
   ]
  },
  {
   "cell_type": "code",
   "execution_count": null,
   "id": "a00c537e-9152-47f8-b9ea-600ba52d0f89",
   "metadata": {},
   "outputs": [],
   "source": [
    "plt.hist([sample_semicircle_rejection() for _ in range(2000)], bins=20, density=True);\n",
    "plt.plot(x, semi_circle(x));"
   ]
  },
  {
   "cell_type": "code",
   "execution_count": null,
   "id": "7094aa9f-c463-4aae-807e-02468db4629a",
   "metadata": {},
   "outputs": [],
   "source": [
    "DEGREES_FREEDOM = 10\n",
    "MIXTURE_PROB = lambda n: 0.4# 0.5/(n-1)\n",
    "\n",
    "def semi_circle_student_mixture_proposal_density(z, mixture_prob, nu=DEGREES_FREEDOM):\n",
    "    \"\"\"\n",
    "    Computes the density of a Student-t and semi-circle mixture.\n",
    "\n",
    "    :param float,np.ndarray[float] z: The point(s) at which to evaluate the density.\n",
    "    :param float mixture_prob: The probability of the Student-t component.\n",
    "\n",
    "    :rtype: np.ndarray[float]\n",
    "    \"\"\"\n",
    "    return semi_circle(z) * (1-mixture_prob) + stats.t.pdf(z, nu) * mixture_prob\n",
    "\n",
    "\n",
    "def sample_semi_circle_student_mixture(p, n=DEGREES_FREEDOM):\n",
    "    \"\"\"\n",
    "    Sample from a mixture of semi-circle random variable and a Student-t.\n",
    "    \"\"\"\n",
    "    if np.random.binomial(1, p) == 1:\n",
    "        return stats.t.rvs(nu)\n",
    "    else:\n",
    "        return sample_semicircle_rejection()"
   ]
  },
  {
   "cell_type": "markdown",
   "id": "3e9f9b13-7f5b-4157-88fb-70a86cdad68e",
   "metadata": {},
   "source": [
    "Here we have built what looks like a decent semicircle-Student mixture to act as proposal distribution for $f_k(.)$. We now want to optimise the rejection bound.\n",
    "\n",
    "The following cell tries various mixture probabilities and degrees of freedom for each $n$ and estimates the best acceptance probability that can be achieved. Thus we can find near optimal values of mixture probability and degrees of freedom for each $n$. This cell will run in under 10 minutes on a decent machine capable of the degree of parallelism employed below.\n",
    "\n",
    "We load in the results of running the same code on a bigger machine."
   ]
  },
  {
   "cell_type": "code",
   "execution_count": null,
   "id": "088094ec-d01b-4dee-ab2d-527350fb09d7",
   "metadata": {},
   "outputs": [],
   "source": [
    "online = False\n",
    "\n",
    "if online:\n",
    "    ns = np.arange(2, 60)\n",
    "    ps = np.linspace(1e-2, .5, 10)\n",
    "    nus = np.linspace(1, 30, 10).astype(int)\n",
    "    n_trials = 1000\n",
    "\n",
    "    def n_optimiser(nn):\n",
    "        success_rates = []\n",
    "        x = np.linspace(-np.sqrt(4*nn)-10, np.sqrt(4*nn)+10, 5000)\n",
    "        for p in ps:\n",
    "            for nu in nus:\n",
    "                M = np.max(finite_n_semi_circle_density(x, nn)/(semi_circle_student_mixture_proposal_density(x/np.sqrt(nn), p, nu)/np.sqrt(nn))) * 1.025\n",
    "                n_success = 0\n",
    "                for _ in range(n_trials):\n",
    "                    proposal = sample_semi_circle_student_mixture(p, nu) * np.sqrt(nn)\n",
    "                    ratio = finite_n_semi_circle_density(proposal, nn)/( semi_circle_student_mixture_proposal_density(proposal/np.sqrt(nn), p, nu)/np.sqrt(nn))\n",
    "                    u = np.random.uniform()\n",
    "                    if u * M < ratio:\n",
    "                        n_success += 1\n",
    "                success_rates.append((p, nu, n_success/n_trials))\n",
    "        return success_rates\n",
    "\n",
    "    results = Parallel(n_jobs=50)(delayed(n_optimiser)(n) for n in ns)\n",
    "    results = [[[float(rr) for rr in r] for r in result] for result in results]\n",
    "else:\n",
    "    import json\n",
    "    with open(\"optimise_rejection.json\") as fin:\n",
    "        ns, results = json.load(fin)"
   ]
  },
  {
   "cell_type": "code",
   "execution_count": null,
   "id": "19b315b0-32d3-46f2-adf3-89442472bf5f",
   "metadata": {},
   "outputs": [],
   "source": [
    "best_results = [max(r, key=lambda x: x[2]) for r in results]"
   ]
  },
  {
   "cell_type": "markdown",
   "id": "480e0a26-f046-4e9e-80bf-efe683db5225",
   "metadata": {},
   "source": [
    "We plot the best mixture probability and degrees of freedom by $n$. Best meaning the acceptance ratio."
   ]
  },
  {
   "cell_type": "code",
   "execution_count": null,
   "id": "f6fe4942-9f9e-420d-aea9-2bb80d0194b9",
   "metadata": {},
   "outputs": [],
   "source": [
    "plt.plot(ns, [b[0] for b in best_results]);\n",
    "plt.xlabel(\"n\")\n",
    "plt.ylabel(\"p\")\n",
    "plt.show()"
   ]
  },
  {
   "cell_type": "code",
   "execution_count": null,
   "id": "a74f7646-c93e-4e58-9552-2d4092f6d41e",
   "metadata": {},
   "outputs": [],
   "source": [
    "plt.plot(ns, [b[1] for b in best_results]);\n",
    "plt.xlabel(\"n\")\n",
    "plt.ylabel(\"degrees freedom\")\n",
    "plt.show()"
   ]
  },
  {
   "cell_type": "code",
   "execution_count": null,
   "id": "31bf8f89-9781-487d-b9eb-339a62bdbfef",
   "metadata": {},
   "outputs": [],
   "source": [
    "DEGREES_FREEDOM = 10\n",
    "MIXTURE_PROB = lambda n: 0.4# 0.5/(n-1)\n"
   ]
  },
  {
   "cell_type": "markdown",
   "id": "f58f165c-a4c1-4386-9543-af1b374010e9",
   "metadata": {},
   "source": [
    "Degrees of freedom seem unimportant, so we fix at 10 for all $n$. We will fit $p_n$. "
   ]
  },
  {
   "cell_type": "code",
   "execution_count": null,
   "id": "3a411b4b-57fe-42d5-83a6-8b3f1047a6b8",
   "metadata": {},
   "outputs": [],
   "source": [
    "POWERS = [0, -1, -.5, -.25]\n",
    "\n",
    "optimal_ps = np.array([b[0] for b in best_results])\n",
    "ns = np.array(ns).astype(float)\n",
    "\n",
    "def fit_loss(coeffs):\n",
    "    features = np.stack([ns**power for power in POWERS], -1)\n",
    "    return np.sum((features @ coeffs - (optimal_ps + 0.03))**2)\n",
    "\n",
    "p_optimal_coefficients = optimize.minimize(fit_loss, np.ones(len(POWERS))).x\n",
    "\n",
    "def mixture_probability(nn):\n",
    "    if isinstance(nn, np.ndarray):\n",
    "        nn = nn.astype(float)\n",
    "    else:\n",
    "        nn = float(nn)\n",
    "    return np.stack([np.power(nn, power) for power in POWERS], -1) @ p_optimal_coefficients\n",
    "\n",
    "plt.plot(ns, optimal_ps, label=\"empirical\");\n",
    "plt.xlabel(\"$n$\")\n",
    "plt.ylabel(\"mixture probability\")\n",
    "plt.plot(ns, mixture_probability(ns.astype(float)), label=\"fit\");\n",
    "plt.legend()\n",
    "plt.savefig(\"../paper/figures/optimal_mixture.pdf\")\n",
    "print(p_optimal_coefficients)"
   ]
  },
  {
   "cell_type": "code",
   "execution_count": null,
   "id": "43f49b1a-15eb-470b-b380-3cda401627fb",
   "metadata": {},
   "outputs": [],
   "source": [
    "n = np.arange(2, 70)\n",
    "M =[]\n",
    "for nn in n:\n",
    "    x = np.linspace(-np.sqrt(4*nn)-10, np.sqrt(4*nn)+10, 5000)\n",
    "    M.append(np.max(finite_n_semi_circle_density(x, nn)/(semi_circle_student_mixture_proposal_density(x/np.sqrt(nn), mixture_probability(nn))/np.sqrt(nn))))\n",
    "plt.plot(n, M);\n",
    "rejection_bounds = np.array(M)"
   ]
  },
  {
   "cell_type": "code",
   "execution_count": null,
   "id": "934431e9-59a0-4974-9595-7e8f50631d10",
   "metadata": {},
   "outputs": [],
   "source": [
    "POWERS = [0, -1, -.5, -.25]\n",
    "\n",
    "def fit_loss(coeffs):\n",
    "    features = np.stack([n.astype(float)**power for power in POWERS], -1)\n",
    "    return np.sum((features @ coeffs - (rejection_bounds + 0.03))**2)\n",
    "\n",
    "m_optimal_coefficients = optimize.minimize(fit_loss, np.ones(len(POWERS))).x\n",
    "\n",
    "def rejection_bound(nn):\n",
    "    if isinstance(nn, np.ndarray):\n",
    "        nn = nn.astype(float)\n",
    "    else:\n",
    "        nn = float(n)\n",
    "    return 0.03 + np.stack([np.power(nn, power) for power in POWERS], -1) @ m_optimal_coefficients\n",
    "\n",
    "plt.plot(n, rejection_bounds, label=\"empirical\");\n",
    "plt.plot(n, rejection_bound(n.astype(float)), label=\"fit\");\n",
    "plt.xlabel(\"$n$\")\n",
    "plt.ylabel(\"rejection bound\")\n",
    "plt.legend()\n",
    "plt.savefig(\"../paper/figures/optimal_bound.pdf\")\n",
    "print(m_optimal_coefficients)"
   ]
  },
  {
   "cell_type": "markdown",
   "id": "ac9628fb-c00f-4151-98de-6278c14167be",
   "metadata": {},
   "source": [
    "Check it generalises."
   ]
  },
  {
   "cell_type": "code",
   "execution_count": null,
   "id": "bc597c8b-3064-4241-abbc-fc90902973f4",
   "metadata": {},
   "outputs": [],
   "source": [
    "n = np.arange(2, 100)\n",
    "M =[]\n",
    "for nn in n:\n",
    "    x = np.linspace(-np.sqrt(4*nn)-10, np.sqrt(4*nn)+10, 5000)\n",
    "    M.append(np.max(finite_n_semi_circle_density(x, nn)/(semi_circle_student_mixture_proposal_density(x/np.sqrt(nn), mixture_probability(nn))/np.sqrt(nn))))\n",
    "plt.plot(n, M);\n",
    "plt.plot(n, rejection_bound(n.astype(float)));"
   ]
  },
  {
   "cell_type": "code",
   "execution_count": null,
   "id": "61c02d63-ca93-497a-a447-9569daafe172",
   "metadata": {},
   "outputs": [],
   "source": [
    "def rejection_sample_finite_n_density(n):\n",
    "    bound  = rejection_bound(n)\n",
    "    for _ in range(1000):\n",
    "        proposal = sample_semi_circle_student_mixture(mixture_probability(n)) * np.sqrt(n)\n",
    "        ratio = finite_n_semi_circle_density(proposal, n)/( semi_circle_student_mixture_proposal_density(proposal/np.sqrt(n), mixture_probability(n))/np.sqrt(n) )\n",
    "        u = np.random.uniform()\n",
    "        if u * bound < ratio:\n",
    "            return proposal"
   ]
  },
  {
   "cell_type": "code",
   "execution_count": null,
   "id": "50ef4eb8-ac7c-493c-a86e-fd3e6b58bb72",
   "metadata": {},
   "outputs": [],
   "source": [
    "n = 10\n",
    "plt.hist([rejection_sample_finite_n_density(n) for _ in range(10000)], bins=50, density=True, label='samples')\n",
    "x = np.linspace(-np.sqrt(4*n)-1, np.sqrt(4*n)+1, 1000)\n",
    "plt.plot(x, finite_n_semi_circle_density(x, n), label=\"density\", linewidth=2);\n",
    "plt.legend()\n",
    "plt.savefig(f\"../paper/figures/sample_n{n}.pdf\")"
   ]
  },
  {
   "cell_type": "code",
   "execution_count": null,
   "id": "1f1e3bee-09ff-46b9-bafa-2fa4cd9964a1",
   "metadata": {},
   "outputs": [],
   "source": [
    "N = 10\n",
    "x = np.linspace(-np.sqrt(4*N)-1, np.sqrt(4*N)+1, 1000)\n",
    "plt.plot(x, finite_n_semi_circle_density(x, N), label=\"$\\\\rho(x)$\")\n",
    "proposal_density = semi_circle_student_mixture_proposal_density(x/np.sqrt(N), mixture_probability(N))/np.sqrt(N)\n",
    "plt.plot(x, rejection_bound(N) * proposal_density, label=\"$Mf(x)$\")\n",
    "plt.legend();\n",
    "plt.xlabel(\"$x$\")\n",
    "plt.savefig(f\"../paper/figures/densities_n{N}.pdf\")"
   ]
  },
  {
   "cell_type": "code",
   "execution_count": null,
   "id": "45ad3241-949c-448a-b2bb-89ea067c3fa7",
   "metadata": {},
   "outputs": [],
   "source": [
    "n_trials = 10000\n",
    "ns = np.arange(2, 60)\n",
    "accept_ratios = []\n",
    "\n",
    "for n in tqdm(ns):\n",
    "    accepts = 0\n",
    "    bound  = rejection_bound(n)\n",
    "    for _ in range(10000):\n",
    "        proposal = sample_semi_circle_student_mixture(mixture_probability(n)) * np.sqrt(n)\n",
    "        ratio = finite_n_semi_circle_density(proposal, n)/( semi_circle_student_mixture_proposal_density(proposal/np.sqrt(n), mixture_probability(n))/np.sqrt(n))\n",
    "        u = np.random.uniform()\n",
    "        if u * bound < ratio:\n",
    "            accepts += 1\n",
    "    accept_ratios.append(accepts/n_trials)"
   ]
  },
  {
   "cell_type": "code",
   "execution_count": null,
   "id": "6147f5d5-ca04-4cf6-b52a-44a095de5580",
   "metadata": {},
   "outputs": [],
   "source": [
    "plt.plot(ns, accept_ratios)\n",
    "plt.ylabel(\"accept probability\")\n",
    "plt.xlabel(\"$n$\")\n",
    "plt.savefig(\"../paper/figures/accept_prob.pdf\")"
   ]
  },
  {
   "cell_type": "markdown",
   "id": "0a470992-4b89-4c70-a7de-17a97ed7d7bd",
   "metadata": {},
   "source": [
    "## General $N$ sampling\n",
    "\n",
    "Here we produce estimates of the acceptance probabilities for a sampler from the multivariate density\n",
    "\n",
    "$$f(x) = \\frac{1}{N}e^{-\\frac{x^2}{2}}\\sum_{i=1}^N\\phi_i(x)^2$$\n",
    "\n",
    "for any $N$. We choose the least $n$ such that $n^d \\geq N$ and define $m = n^d - N$. Then define the proposal density \n",
    "\n",
    "$$q(x) = \\frac{1}{n^d}e^{-\\frac{x^2}{2}}\\sum_{i=1}^{n^d}\\phi_i(x)^2$$\n",
    "\n",
    "and we have the bound $$ \\frac{f(x)}{q(x)} \\leq \\frac{n^d}{n^d - m}.$$\n",
    "\n",
    "Sampling from $q$ amounts to simply sampling $d$ i.i.d. entries from the univariate $$  \\frac{1}{n}e^{-\\frac{x_j^2}{2}}\\sum_{i=1}^n\\psi_i(x_j)^2$$ as above. \n",
    "\n",
    "Thus we have constructed all we need for a rejection sampler."
   ]
  },
  {
   "cell_type": "code",
   "execution_count": null,
   "id": "ca923681-4852-4872-b4f7-fc4f674beebe",
   "metadata": {},
   "outputs": [],
   "source": [
    "import sys\n",
    "\n",
    "sys.path.append(\"..\")\n",
    "from semi_circle_cython_backend import sample_finite_n_semi_circle\n",
    "from hermitedpp.multivariate_hermite_factor_ope import MultivariateHermiteFactorOPE"
   ]
  },
  {
   "cell_type": "code",
   "execution_count": null,
   "id": "16e771d9-8926-47eb-8235-66f697eb97be",
   "metadata": {},
   "outputs": [],
   "source": [
    "def count_accepts(dpp_instance, nb_trials_max=1000):\n",
    "    success = 0\n",
    "    for _ in range(nb_trials_max):\n",
    "        proposal_point = sample_finite_n_semi_circle(dpp_instance.single_factor_n, n_samples=dpp_instance.dim)\n",
    "        phi_x = dpp_instance.eval_multiD_polynomials(proposal_point, all=True)\n",
    "        target_density = phi_x[:, :dpp_instance.n_points] @ phi_x[:, :dpp_instance.n_points].T\n",
    "        proposal_density = phi_x @ phi_x.T\n",
    "        uniform = np.random.uniform()\n",
    "        if uniform * dpp_instance.nearest_factor_rejection_bound < target_density / proposal_density:\n",
    "            success += 1\n",
    "    return success / nb_trials_max"
   ]
  },
  {
   "cell_type": "code",
   "execution_count": null,
   "id": "cb3ce6c5-7644-4d19-b9ac-90f98a179602",
   "metadata": {},
   "outputs": [],
   "source": [
    "n_trials = 1000\n",
    "dim = 2\n",
    "ns = np.linspace(26, 1000, 30).astype(int)\n",
    "accept_ratios = []\n",
    "\n",
    "for n in tqdm(ns):\n",
    "    dpp = MultivariateHermiteFactorOPE(n, dim)\n",
    "    accept_ratios.append(count_accepts(dpp))\n",
    "\n",
    "\n",
    "plt.plot(ns, accept_ratios, \"x-\", label=\"observed\")\n",
    "plt.ylabel(\"accept probability\")\n",
    "plt.xlabel(\"$N$\")\n",
    "plt.savefig(f\"../paper/figures/accept_prob_bootstrap_d{dim}.pdf\")"
   ]
  },
  {
   "cell_type": "code",
   "execution_count": null,
   "id": "3cdcccc5-058c-4db9-8d2f-b21d4c3f603f",
   "metadata": {},
   "outputs": [],
   "source": [
    "n_trials = 1000\n",
    "dim = 3\n",
    "ns = np.linspace(26, 1000, 30).astype(int)\n",
    "accept_ratios = []\n",
    "\n",
    "for n in tqdm(ns):\n",
    "    dpp = MultivariateHermiteFactorOPE(n, dim)\n",
    "    accept_ratios.append(count_accepts(dpp))\n",
    "\n",
    "plt.plot(ns, accept_ratios, \"x-\", label=\"observed\")\n",
    "plt.ylabel(\"accept probability\")\n",
    "plt.xlabel(\"$N$\")\n",
    "plt.savefig(f\"../paper/figures/accept_prob_bootstrap_d{dim}.pdf\")"
   ]
  },
  {
   "cell_type": "code",
   "execution_count": null,
   "id": "d6ff4685-6568-40f9-9803-19b374f0d0e6",
   "metadata": {},
   "outputs": [],
   "source": [
    "5**4"
   ]
  },
  {
   "cell_type": "code",
   "execution_count": null,
   "id": "c213d7f1-7e08-4ef1-8466-87a2553db141",
   "metadata": {},
   "outputs": [],
   "source": [
    "n_trials = 1000\n",
    "dim = 4\n",
    "ns = np.linspace(26, 1000, 30).astype(int)\n",
    "accept_ratios = []\n",
    "\n",
    "for n in tqdm(ns):\n",
    "    dpp = MultivariateHermiteFactorOPE(n, dim)\n",
    "    accept_ratios.append(count_accepts(dpp))\n",
    "\n",
    "plt.plot(ns, accept_ratios, \"x-\", label=\"observed\")\n",
    "plt.ylabel(\"accept probability\")\n",
    "plt.xlabel(\"$N$\")\n",
    "plt.savefig(f\"../paper/figures/accept_prob_bootstrap_d{dim}.pdf\")"
   ]
  },
  {
   "cell_type": "code",
   "execution_count": null,
   "id": "eb68fd13-a8aa-4327-8b5a-880c295d32c9",
   "metadata": {},
   "outputs": [],
   "source": []
  }
 ],
 "metadata": {
  "kernelspec": {
   "display_name": "hermitedpp",
   "language": "python",
   "name": "hermitedpp"
  },
  "language_info": {
   "codemirror_mode": {
    "name": "ipython",
    "version": 3
   },
   "file_extension": ".py",
   "mimetype": "text/x-python",
   "name": "python",
   "nbconvert_exporter": "python",
   "pygments_lexer": "ipython3",
   "version": "3.8.3"
  }
 },
 "nbformat": 4,
 "nbformat_minor": 5
}
