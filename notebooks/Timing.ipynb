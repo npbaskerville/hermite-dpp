{
 "cells": [
  {
   "cell_type": "code",
   "execution_count": null,
   "id": "9281bc2a-b227-45d8-9231-4ad0c3fb6d36",
   "metadata": {},
   "outputs": [],
   "source": [
    "import multiprocessing as mp\n",
    "import sys\n",
    "import time\n",
    "\n",
    "import matplotlib.pyplot as plt\n",
    "import numpy as np\n",
    "from scipy import stats\n",
    "from scipy.integrate import quad\n",
    "from sklearn.metrics import pairwise_distances\n",
    "from tqdm.autonotebook import tqdm\n",
    "\n",
    "%config InlineBackend.figure_format='retina'\n",
    "\n",
    "sys.path.append(\"..\")\n",
    "from hermitedpp.multivariate_hermite_factor_ope import MultivariateHermiteFactorOPE"
   ]
  },
  {
   "cell_type": "code",
   "execution_count": null,
   "id": "b7ec02f9-1f34-433b-8770-0db8b3e88852",
   "metadata": {},
   "outputs": [],
   "source": [
    "ns = np.linspace(50, 300, 6).astype(int)\n",
    "results = {1: [], 2: [], 3: [], 4: []}\n",
    "reps = 30\n",
    "\n",
    "for d in tqdm(results):\n",
    "    for n in tqdm(ns, leave=False):\n",
    "        dpp = MultivariateHermiteFactorOPE(n, d)\n",
    "        times = []\n",
    "        for _ in tqdm(range(reps), leave=False):\n",
    "            _time = time.time()\n",
    "            sample = dpp.sample()\n",
    "            times.append(time.time() - _time)\n",
    "        results[d].append((np.mean(times), np.std(times)))"
   ]
  },
  {
   "cell_type": "code",
   "execution_count": null,
   "id": "be660aea-a34a-44cc-aa9e-82d79021a2bb",
   "metadata": {},
   "outputs": [],
   "source": [
    "for d in results:\n",
    "    plt.errorbar(ns, [r[0] for r in results[d]], [r[1] for r in results[d]], label=str(d));\n",
    "plt.legend();\n",
    "plt.xlabel(\"$N$\")\n",
    "plt.ylabel(\"time (s)\")\n",
    "plt.savefig(\"../paper/figures/timing.pdf\")"
   ]
  },
  {
   "cell_type": "code",
   "execution_count": null,
   "id": "1efab6a2",
   "metadata": {},
   "outputs": [],
   "source": [
    "[i**3 for i in range(3, 10)]"
   ]
  },
  {
   "cell_type": "code",
   "execution_count": null,
   "id": "05e0d674-b535-4f16-b55c-e74fe7c1ac04",
   "metadata": {},
   "outputs": [],
   "source": []
  }
 ],
 "metadata": {
  "kernelspec": {
   "display_name": "hermitedpp",
   "language": "python",
   "name": "hermitedpp"
  },
  "language_info": {
   "codemirror_mode": {
    "name": "ipython",
    "version": 3
   },
   "file_extension": ".py",
   "mimetype": "text/x-python",
   "name": "python",
   "nbconvert_exporter": "python",
   "pygments_lexer": "ipython3",
   "version": "3.8.3"
  }
 },
 "nbformat": 4,
 "nbformat_minor": 5
}
